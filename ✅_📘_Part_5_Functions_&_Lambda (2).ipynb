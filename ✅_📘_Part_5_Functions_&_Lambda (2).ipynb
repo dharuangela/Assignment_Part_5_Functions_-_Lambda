{
  "cells": [
    {
      "cell_type": "code",
      "execution_count": null,
      "metadata": {
        "id": "OGBdoHRICTDH"
      },
      "outputs": [],
      "source": [
        "pi = 3.14159265359"
      ]
    },
    {
      "cell_type": "code",
      "execution_count": null,
      "metadata": {
        "id": "8l3LjKCEB4Sb"
      },
      "outputs": [],
      "source": [
        "F1 = 3 * pi\n",
        "F2 = 4 + pi\n",
        "F3 = 8 - pi"
      ]
    },
    {
      "cell_type": "code",
      "execution_count": null,
      "metadata": {
        "colab": {
          "base_uri": "https://localhost:8080/"
        },
        "id": "8_-xAwxDB4ID",
        "outputId": "fc62621e-2c4d-42f7-c85d-60092a1e19d6"
      },
      "outputs": [
        {
          "name": "stdout",
          "output_type": "stream",
          "text": [
            "5\n",
            "-1\n",
            "6\n",
            "0.6666666666666666\n"
          ]
        }
      ],
      "source": [
        "print(2+3)\n",
        "print(2-3)\n",
        "print(2*3)\n",
        "print(2/3)"
      ]
    },
    {
      "cell_type": "code",
      "execution_count": null,
      "metadata": {
        "colab": {
          "base_uri": "https://localhost:8080/"
        },
        "id": "LqppFWdOCr11",
        "outputId": "643e9b1f-ea80-46a3-d862-5b2572842f52"
      },
      "outputs": [
        {
          "name": "stdout",
          "output_type": "stream",
          "text": [
            "15\n",
            "9\n",
            "36\n",
            "4.0\n"
          ]
        }
      ],
      "source": [
        "print(12+3)\n",
        "print(12-3)\n",
        "print(12*3)\n",
        "print(12/3)"
      ]
    },
    {
      "cell_type": "code",
      "execution_count": null,
      "metadata": {
        "colab": {
          "base_uri": "https://localhost:8080/"
        },
        "id": "95nHiilxCvcS",
        "outputId": "faec49ac-9fd9-40bb-9ddf-b10dd8617137"
      },
      "outputs": [
        {
          "name": "stdout",
          "output_type": "stream",
          "text": [
            "45\n",
            "-21\n",
            "396\n",
            "0.36363636363636365\n"
          ]
        }
      ],
      "source": [
        "print(12+33)\n",
        "print(12-33)\n",
        "print(12*33)\n",
        "print(12/33)"
      ]
    },
    {
      "cell_type": "code",
      "execution_count": null,
      "metadata": {
        "colab": {
          "base_uri": "https://localhost:8080/"
        },
        "id": "i5K4Dn6QCx2u",
        "outputId": "ab152c7e-4b96-460e-ca01-7135a708b321"
      },
      "outputs": [
        {
          "name": "stdout",
          "output_type": "stream",
          "text": [
            "8\n",
            "2\n",
            "15\n",
            "1.6666666666666667\n"
          ]
        }
      ],
      "source": [
        "print(5+3)\n",
        "print(5-3)\n",
        "print(5*3)\n",
        "print(5/3)"
      ]
    },
    {
      "cell_type": "code",
      "execution_count": null,
      "metadata": {
        "id": "Q0mWAR6gDABW"
      },
      "outputs": [],
      "source": [
        "def fun_name():\n",
        "  # logic"
      ]
    },
    {
      "cell_type": "code",
      "execution_count": null,
      "metadata": {
        "id": "qkSX4GZpDI9i"
      },
      "outputs": [],
      "source": [
        "def angela():\n",
        "  print('angela')\n",
        "  print('raja')\n",
        "  print('1')\n",
        "  print('True')"
      ]
    },
    {
      "cell_type": "code",
      "execution_count": null,
      "metadata": {
        "colab": {
          "base_uri": "https://localhost:8080/"
        },
        "id": "9WCjhlGtDI5A",
        "outputId": "eaa63562-d2b1-4ed3-ef11-6b0753ddc37b"
      },
      "outputs": [
        {
          "name": "stdout",
          "output_type": "stream",
          "text": [
            "angela\n",
            "raja\n",
            "1\n",
            "True\n"
          ]
        }
      ],
      "source": [
        "angela()"
      ]
    },
    {
      "cell_type": "code",
      "execution_count": null,
      "metadata": {
        "id": "0cAmtfNsDI1a"
      },
      "outputs": [],
      "source": []
    },
    {
      "cell_type": "code",
      "execution_count": null,
      "metadata": {
        "id": "Ii238Wqch_Ii"
      },
      "outputs": [],
      "source": [
        "def greet():\n",
        "    print(\"Hello, welcome to Python Functions!\")"
      ]
    },
    {
      "cell_type": "code",
      "execution_count": null,
      "metadata": {
        "colab": {
          "base_uri": "https://localhost:8080/"
        },
        "id": "ffknz_QuD2mL",
        "outputId": "6546e7ef-4fb0-4837-9e98-420e3080a1d2"
      },
      "outputs": [
        {
          "name": "stdout",
          "output_type": "stream",
          "text": [
            "Hello, welcome to Python Functions!\n"
          ]
        }
      ],
      "source": [
        "greet()"
      ]
    },
    {
      "cell_type": "markdown",
      "metadata": {
        "id": "4i-Y8Q4ViWc6"
      },
      "source": [
        "✅ Practice:\n",
        "\n",
        "Create a function say_hello that prints your name."
      ]
    },
    {
      "cell_type": "code",
      "source": [
        "def say_hello(name):\n",
        "    print(f\"Hello, {name}\")"
      ],
      "metadata": {
        "id": "UvZd1hXa5qg-"
      },
      "execution_count": 5,
      "outputs": []
    },
    {
      "cell_type": "code",
      "source": [
        "say_hello(\"Angela\")"
      ],
      "metadata": {
        "colab": {
          "base_uri": "https://localhost:8080/"
        },
        "id": "O9PwoWfX6Ylo",
        "outputId": "dce530a8-5f13-47a3-8477-5f8dd94b9fcc"
      },
      "execution_count": 6,
      "outputs": [
        {
          "output_type": "stream",
          "name": "stdout",
          "text": [
            "Hello, Angela\n"
          ]
        }
      ]
    },
    {
      "cell_type": "markdown",
      "metadata": {
        "id": "Tp_uq-PMiZZo"
      },
      "source": [
        "## **📌 Section 2: Parameters & Return Values**\n",
        "📚 Concept:\n",
        "\n",
        "Functions can take inputs (parameters) and produce outputs (return values).\n",
        "\n",
        "🧩 Example:"
      ]
    },
    {
      "cell_type": "code",
      "execution_count": null,
      "metadata": {
        "id": "LD1qMV9FD8J8"
      },
      "outputs": [],
      "source": [
        "def angela(a,b):\n",
        "  print('angela')\n",
        "  print(a+b)\n",
        "  print(a-b)\n",
        "  print(a/b)\n",
        "  print(a*b)\n",
        "  print(a**b)"
      ]
    },
    {
      "cell_type": "code",
      "execution_count": null,
      "metadata": {
        "colab": {
          "base_uri": "https://localhost:8080/"
        },
        "id": "VAnIT1ybD8GI",
        "outputId": "336d0990-cc11-484a-fe93-9847992d66e6"
      },
      "outputs": [
        {
          "name": "stdout",
          "output_type": "stream",
          "text": [
            "angela\n",
            "12\n",
            "8\n",
            "5.0\n",
            "20\n",
            "100\n"
          ]
        }
      ],
      "source": [
        "angela(10,2)"
      ]
    },
    {
      "cell_type": "code",
      "execution_count": null,
      "metadata": {
        "id": "rEa_-Z_gD7-6"
      },
      "outputs": [],
      "source": [
        "def angela(a,b):\n",
        "  # print('angela')\n",
        "  return(a+b)"
      ]
    },
    {
      "cell_type": "code",
      "execution_count": null,
      "metadata": {
        "id": "K953bHMJFFh9"
      },
      "outputs": [],
      "source": [
        "var = angela(1,2)"
      ]
    },
    {
      "cell_type": "code",
      "execution_count": null,
      "metadata": {
        "colab": {
          "base_uri": "https://localhost:8080/"
        },
        "id": "5k43qS3zFFee",
        "outputId": "5e3c90eb-dff8-4f9a-bfa7-689533fb12be"
      },
      "outputs": [
        {
          "data": {
            "text/plain": [
              "3"
            ]
          },
          "execution_count": 30,
          "metadata": {},
          "output_type": "execute_result"
        }
      ],
      "source": [
        "var"
      ]
    },
    {
      "cell_type": "code",
      "execution_count": null,
      "metadata": {
        "colab": {
          "base_uri": "https://localhost:8080/"
        },
        "id": "5d5JdC22iPzQ",
        "outputId": "46f09ea6-402e-42d1-db69-8067e02c2153"
      },
      "outputs": [
        {
          "name": "stdout",
          "output_type": "stream",
          "text": [
            "8\n"
          ]
        }
      ],
      "source": [
        "def add(a, b):\n",
        "    return a + b\n",
        "\n",
        "result = add(5, 3)\n",
        "print(result)  # 8"
      ]
    },
    {
      "cell_type": "markdown",
      "metadata": {
        "id": "zoazWZlcirKE"
      },
      "source": [
        "✅ Practice:\n",
        "\n",
        "Write a function multiply(x, y) that returns the product."
      ]
    },
    {
      "cell_type": "code",
      "execution_count": 7,
      "metadata": {
        "id": "iNSwfTwqjTU_",
        "colab": {
          "base_uri": "https://localhost:8080/"
        },
        "outputId": "352ce3ef-a435-4d32-9894-e7e4760d047e"
      },
      "outputs": [
        {
          "output_type": "stream",
          "name": "stdout",
          "text": [
            "6\n"
          ]
        }
      ],
      "source": [
        "def multiply(x, y):\n",
        "    return x * y\n",
        "\n",
        "result = multiply(2, 3)\n",
        "print(result)"
      ]
    },
    {
      "cell_type": "markdown",
      "metadata": {
        "id": "CyuJxMi4it0Q"
      },
      "source": [
        "## 📌 **Section 3: Positional vs Keyword Arguments**\n",
        "\n",
        "📚 Concept:\n",
        "\n",
        "Positional: Order matters\n",
        "\n",
        "Keyword: Use param=value\n",
        "\n",
        "🧩 Example:"
      ]
    },
    {
      "cell_type": "code",
      "execution_count": null,
      "metadata": {
        "id": "B66r_U_rFlPu"
      },
      "outputs": [],
      "source": [
        "def test(x,y):\n",
        "  print('x=',x,'y=',y)"
      ]
    },
    {
      "cell_type": "code",
      "execution_count": null,
      "metadata": {
        "colab": {
          "base_uri": "https://localhost:8080/"
        },
        "id": "mltn_cYAFlL0",
        "outputId": "40e4f838-2a7e-4e79-d219-325844811b2f"
      },
      "outputs": [
        {
          "name": "stdout",
          "output_type": "stream",
          "text": [
            "x= 2 y= 3\n"
          ]
        }
      ],
      "source": [
        "test(2,3) # positional"
      ]
    },
    {
      "cell_type": "code",
      "execution_count": null,
      "metadata": {
        "colab": {
          "base_uri": "https://localhost:8080/"
        },
        "id": "OHgpzsKnFlGn",
        "outputId": "51f26ef2-7829-463f-fa47-aefc5563f9e4"
      },
      "outputs": [
        {
          "name": "stdout",
          "output_type": "stream",
          "text": [
            "x= 3 y= 2\n"
          ]
        }
      ],
      "source": [
        "test(x=3,y=2) # keyword"
      ]
    },
    {
      "cell_type": "code",
      "execution_count": null,
      "metadata": {
        "id": "X3ofoqnbGJ0Q"
      },
      "outputs": [],
      "source": [
        "def test(x=1,y=0):\n",
        "  print('x=',x,'y=',y)"
      ]
    },
    {
      "cell_type": "code",
      "execution_count": null,
      "metadata": {
        "colab": {
          "base_uri": "https://localhost:8080/"
        },
        "id": "S2IeWftoGJsw",
        "outputId": "9c0c966d-c428-4443-c685-31ffcf70544d"
      },
      "outputs": [
        {
          "name": "stdout",
          "output_type": "stream",
          "text": [
            "x= 3 y= 4\n"
          ]
        }
      ],
      "source": [
        "test(3,4)"
      ]
    },
    {
      "cell_type": "code",
      "execution_count": null,
      "metadata": {
        "id": "XLn1R6lkikc6"
      },
      "outputs": [],
      "source": [
        "def introduce(name, age):\n",
        "    print(f\"My name is {name} and I am {age} years old.\")"
      ]
    },
    {
      "cell_type": "code",
      "execution_count": null,
      "metadata": {
        "colab": {
          "base_uri": "https://localhost:8080/"
        },
        "id": "RkWY_jO6i2-Z",
        "outputId": "831e17aa-883e-4902-b1bd-d5cef8d8c9b9"
      },
      "outputs": [
        {
          "name": "stdout",
          "output_type": "stream",
          "text": [
            "My name is Alice and I am 25 years old.\n"
          ]
        }
      ],
      "source": [
        "# Positional\n",
        "introduce(\"Alice\", 25)"
      ]
    },
    {
      "cell_type": "code",
      "execution_count": null,
      "metadata": {
        "colab": {
          "base_uri": "https://localhost:8080/"
        },
        "id": "RN7InCu-i4CY",
        "outputId": "d77a3a91-4c23-4dfc-f1ca-2733173de017"
      },
      "outputs": [
        {
          "name": "stdout",
          "output_type": "stream",
          "text": [
            "My name is Alice and I am 25 years old.\n"
          ]
        }
      ],
      "source": [
        "# Keyword\n",
        "introduce(age=25, name=\"Alice\")"
      ]
    },
    {
      "cell_type": "markdown",
      "metadata": {
        "id": "GRoUDldIi_hQ"
      },
      "source": [
        "✅ Practice:\n",
        "\n",
        "Try calling your multiply function using keyword arguments."
      ]
    },
    {
      "cell_type": "code",
      "execution_count": 11,
      "metadata": {
        "id": "aaVTW1nzjUPY"
      },
      "outputs": [],
      "source": [
        "def multiply(a, b):\n",
        "    return a * b"
      ]
    },
    {
      "cell_type": "code",
      "source": [
        "result = multiply(a=4, b=5)\n",
        "print(result)"
      ],
      "metadata": {
        "colab": {
          "base_uri": "https://localhost:8080/"
        },
        "id": "hqUTKDytEclc",
        "outputId": "942bc8c3-c94f-421d-9aa1-0a85a3f2f01e"
      },
      "execution_count": 12,
      "outputs": [
        {
          "output_type": "stream",
          "name": "stdout",
          "text": [
            "20\n"
          ]
        }
      ]
    },
    {
      "cell_type": "markdown",
      "metadata": {
        "id": "5_yH6DbbjBRn"
      },
      "source": [
        "## **📌 Section 4: Default Values**\n",
        "📚 Concept:\n",
        "\n",
        "You can set default values for parameters.\n",
        "\n",
        "🧩 Example:"
      ]
    },
    {
      "cell_type": "code",
      "execution_count": null,
      "metadata": {
        "id": "8zKNA051i4Zx"
      },
      "outputs": [],
      "source": [
        "def greet(name=\"Guest\"):\n",
        "    print(f\"Hello, {name}!\")"
      ]
    },
    {
      "cell_type": "code",
      "execution_count": null,
      "metadata": {
        "colab": {
          "base_uri": "https://localhost:8080/"
        },
        "id": "M-_u_hPHjJVI",
        "outputId": "68331dc9-ab84-46dd-b7dc-867f2cb8aada"
      },
      "outputs": [
        {
          "name": "stdout",
          "output_type": "stream",
          "text": [
            "Hello, Guest!\n"
          ]
        }
      ],
      "source": [
        "greet()"
      ]
    },
    {
      "cell_type": "code",
      "execution_count": null,
      "metadata": {
        "colab": {
          "base_uri": "https://localhost:8080/"
        },
        "id": "VXMqn_SVjHvY",
        "outputId": "1109abe3-91ef-4602-8470-0126aff3a27d"
      },
      "outputs": [
        {
          "name": "stdout",
          "output_type": "stream",
          "text": [
            "Hello, Alice!\n"
          ]
        }
      ],
      "source": [
        "greet(\"Alice\")"
      ]
    },
    {
      "cell_type": "code",
      "execution_count": null,
      "metadata": {
        "id": "Y25WWlzcNMc3"
      },
      "outputs": [],
      "source": [
        "# Question for testing the Understand"
      ]
    },
    {
      "cell_type": "code",
      "execution_count": null,
      "metadata": {
        "id": "mImh9q8PNMZW"
      },
      "outputs": [],
      "source": [
        "def sample(b,a=1): # function definition\n",
        "  # print('sample','a',a,'b',b)\n",
        "  return a, b"
      ]
    },
    {
      "cell_type": "code",
      "execution_count": null,
      "metadata": {
        "colab": {
          "base_uri": "https://localhost:8080/"
        },
        "id": "pN5B25zyNMWt",
        "outputId": "3f68726d-b0d2-467e-c69a-31be2e67733b"
      },
      "outputs": [
        {
          "data": {
            "text/plain": [
              "(3, 4)"
            ]
          },
          "execution_count": 98,
          "metadata": {},
          "output_type": "execute_result"
        }
      ],
      "source": [
        "sample(4,3) # function calling"
      ]
    },
    {
      "cell_type": "markdown",
      "metadata": {
        "id": "jeq4efFJjQE3"
      },
      "source": [
        "✅ Practice:\n",
        "\n",
        "Write a function power(x, y=2) that returns x to the power y."
      ]
    },
    {
      "cell_type": "code",
      "execution_count": 18,
      "metadata": {
        "id": "quP_S40MjJtQ"
      },
      "outputs": [],
      "source": [
        "def power(x, y=2):\n",
        "    return x ** y"
      ]
    },
    {
      "cell_type": "code",
      "source": [
        "print(power(2)) # This is 2**2 (where x is 2, y is to the power of 2)"
      ],
      "metadata": {
        "colab": {
          "base_uri": "https://localhost:8080/"
        },
        "id": "PcHSMJIzFIeX",
        "outputId": "8e2ab07a-a81c-461b-a1ab-df2eea9dc444"
      },
      "execution_count": 21,
      "outputs": [
        {
          "output_type": "stream",
          "name": "stdout",
          "text": [
            "4\n"
          ]
        }
      ]
    },
    {
      "cell_type": "code",
      "source": [
        "print(power(4))"
      ],
      "metadata": {
        "colab": {
          "base_uri": "https://localhost:8080/"
        },
        "id": "b5AXO3lTGxtK",
        "outputId": "4c2bfbd1-5bda-4039-e757-f0e72312a178"
      },
      "execution_count": 22,
      "outputs": [
        {
          "output_type": "stream",
          "name": "stdout",
          "text": [
            "16\n"
          ]
        }
      ]
    },
    {
      "cell_type": "code",
      "source": [
        "print(power(x=3, y=4))"
      ],
      "metadata": {
        "colab": {
          "base_uri": "https://localhost:8080/"
        },
        "id": "ketwv-MnG7j6",
        "outputId": "f2c9328f-211e-4727-aa54-af565de648ba"
      },
      "execution_count": 25,
      "outputs": [
        {
          "output_type": "stream",
          "name": "stdout",
          "text": [
            "81\n"
          ]
        }
      ]
    },
    {
      "cell_type": "code",
      "source": [
        "3*3*3*3"
      ],
      "metadata": {
        "colab": {
          "base_uri": "https://localhost:8080/"
        },
        "id": "6yzCt1jbHOhQ",
        "outputId": "83819c90-98ec-470f-aa9b-0aaf43bc9f34"
      },
      "execution_count": 28,
      "outputs": [
        {
          "output_type": "execute_result",
          "data": {
            "text/plain": [
              "81"
            ]
          },
          "metadata": {},
          "execution_count": 28
        }
      ]
    },
    {
      "cell_type": "code",
      "source": [
        "print(power(5,3)) # This is same as 5*5*5"
      ],
      "metadata": {
        "colab": {
          "base_uri": "https://localhost:8080/"
        },
        "id": "VTOLxyFcFUgf",
        "outputId": "d98d56fc-b6e7-4250-af1b-01f79f248216"
      },
      "execution_count": 29,
      "outputs": [
        {
          "output_type": "stream",
          "name": "stdout",
          "text": [
            "125\n"
          ]
        }
      ]
    },
    {
      "cell_type": "markdown",
      "metadata": {
        "id": "3PptaBQyjWhg"
      },
      "source": [
        "## 📌 **Section 5: *args and kwargs**\n",
        "\n",
        "📚 Concept:\n",
        "\n",
        "*args — for multiple positional arguments\n",
        "\n",
        "**kwargs — for multiple keyword arguments\n",
        "\n",
        "\n",
        "🧩 Example:"
      ]
    },
    {
      "cell_type": "code",
      "execution_count": null,
      "metadata": {
        "id": "LwY0MGifOuFh"
      },
      "outputs": [],
      "source": [
        "# *args"
      ]
    },
    {
      "cell_type": "code",
      "execution_count": null,
      "metadata": {
        "id": "q2ucGu2kOuBc"
      },
      "outputs": [],
      "source": [
        "def special_1(*val):\n",
        "  print(val)"
      ]
    },
    {
      "cell_type": "code",
      "execution_count": null,
      "metadata": {
        "id": "NGR8PjmDPGkj"
      },
      "outputs": [],
      "source": [
        "# 1\n",
        "# 2\n",
        "# 3\n",
        "# 4\n",
        "# 5"
      ]
    },
    {
      "cell_type": "code",
      "execution_count": null,
      "metadata": {
        "colab": {
          "base_uri": "https://localhost:8080/"
        },
        "id": "QtCOshdePUxh",
        "outputId": "c6c04d25-d4e0-4010-9853-0cbfe3c96f7b"
      },
      "outputs": [
        {
          "name": "stdout",
          "output_type": "stream",
          "text": [
            "1\n",
            "2\n",
            "3\n",
            "4\n",
            "5\n"
          ]
        }
      ],
      "source": [
        "for i in (1,2,3,4,5):\n",
        "  # print(i)\n",
        "  special_1(i)"
      ]
    },
    {
      "cell_type": "code",
      "execution_count": null,
      "metadata": {
        "colab": {
          "base_uri": "https://localhost:8080/"
        },
        "id": "YPCAvvV7Ot9l",
        "outputId": "ca26c551-25c7-404c-b789-bd7c001d0c76"
      },
      "outputs": [
        {
          "name": "stdout",
          "output_type": "stream",
          "text": [
            "(1, 2, 3, 4, 5, 'alice', 2.2)\n"
          ]
        }
      ],
      "source": [
        "special_1(1,2,3,4,5,'alice',2.2)"
      ]
    },
    {
      "cell_type": "code",
      "execution_count": null,
      "metadata": {
        "id": "O9_Xm9VYOt6L"
      },
      "outputs": [],
      "source": [
        "def special_2(**kwargs):\n",
        "    print(kwargs)"
      ]
    },
    {
      "cell_type": "code",
      "execution_count": null,
      "metadata": {
        "colab": {
          "base_uri": "https://localhost:8080/"
        },
        "id": "Yfbe2x9yP1Yv",
        "outputId": "0a7cedce-29d1-41e9-e937-9e271170cbd1"
      },
      "outputs": [
        {
          "name": "stdout",
          "output_type": "stream",
          "text": [
            "{'name': 'Angela', 'Grade': 'A'}\n"
          ]
        }
      ],
      "source": [
        "special_2(name='Angela',Grade='A')"
      ]
    },
    {
      "cell_type": "code",
      "execution_count": null,
      "metadata": {
        "colab": {
          "base_uri": "https://localhost:8080/"
        },
        "id": "RhAjX6TWjdyJ",
        "outputId": "be36342e-fb06-437d-e741-de7b0e523733"
      },
      "outputs": [
        {
          "name": "stdout",
          "output_type": "stream",
          "text": [
            "(1, 2, 3)\n"
          ]
        }
      ],
      "source": [
        "def show_args(*args):\n",
        "    print(args)\n",
        "\n",
        "show_args(1, 2, 3)"
      ]
    },
    {
      "cell_type": "code",
      "execution_count": null,
      "metadata": {
        "colab": {
          "base_uri": "https://localhost:8080/"
        },
        "id": "qK2eC878jmLp",
        "outputId": "452d07bc-82e5-4144-ed0c-e34b374e1294"
      },
      "outputs": [
        {
          "name": "stdout",
          "output_type": "stream",
          "text": [
            "{'name': 'Alice', 'age': 25}\n"
          ]
        }
      ],
      "source": [
        "def show_kwargs(**kwargs):\n",
        "    print(kwargs)\n",
        "\n",
        "show_kwargs(name=\"Alice\", age=25)"
      ]
    },
    {
      "cell_type": "markdown",
      "metadata": {
        "id": "07TPl7P_jw-I"
      },
      "source": [
        "✅ Practice:\n",
        "\n",
        "Write a function sum_all(*numbers) that sums any number of numbers."
      ]
    },
    {
      "cell_type": "code",
      "source": [
        "def sum_all(*numbers):\n",
        "   return sum(numbers)\n"
      ],
      "metadata": {
        "id": "fJXV5ZrNH1xB"
      },
      "execution_count": null,
      "outputs": []
    },
    {
      "cell_type": "code",
      "source": [
        "print(sum_all(1, 2, 3)) #This sum of 1+2+3 =6\n",
        "print(sum_all(10, 20, 30, 40))  #This is sum of 10+20+30+40=100"
      ],
      "metadata": {
        "colab": {
          "base_uri": "https://localhost:8080/"
        },
        "id": "0l8lT4f3GWQh",
        "outputId": "463fbebf-c084-4626-e7cd-fece9dcbadc3"
      },
      "execution_count": null,
      "outputs": [
        {
          "output_type": "stream",
          "name": "stdout",
          "text": [
            "6\n",
            "100\n"
          ]
        }
      ]
    },
    {
      "cell_type": "markdown",
      "metadata": {
        "id": "scxv4m4nkEUn"
      },
      "source": [
        "## **📌 Section 6: Recursion**\n",
        "\n",
        "📚 Concept:\n",
        "\n",
        "A function that calls itself.\n",
        "\n",
        "🧩 Example: Factorial"
      ]
    },
    {
      "cell_type": "code",
      "execution_count": null,
      "metadata": {
        "id": "R0IwudxdRldT"
      },
      "outputs": [],
      "source": [
        "def factorial(n):\n",
        "    if n == 0 or n == 1: # False or False\n",
        "        return 1\n",
        "    else:\n",
        "        return n * factorial(n - 1)"
      ]
    },
    {
      "cell_type": "code",
      "execution_count": null,
      "metadata": {
        "id": "F3mjd3J3SPMy"
      },
      "outputs": [],
      "source": [
        "# factorial(5)\n",
        "# value 5\n",
        "# 1. else (5 * factorial(5 - 1))"
      ]
    },
    {
      "cell_type": "code",
      "execution_count": null,
      "metadata": {
        "id": "ZkKGMCtqSenf"
      },
      "outputs": [],
      "source": [
        "# factorial(5 - 1)\n",
        "# value 4\n",
        "# 2. else (4 * factorial(4 - 1))"
      ]
    },
    {
      "cell_type": "code",
      "execution_count": null,
      "metadata": {
        "id": "JG_uVwj2SfP8"
      },
      "outputs": [],
      "source": [
        "# factorial(4 - 1)\n",
        "# value 3\n",
        "# 3. else (3 * factorial(3 - 1))"
      ]
    },
    {
      "cell_type": "code",
      "execution_count": null,
      "metadata": {
        "id": "shnBF5vMSfMj"
      },
      "outputs": [],
      "source": [
        "# factorial(3 - 1)\n",
        "# value 2\n",
        "# 4. else (2 * factorial(2 - 1))"
      ]
    },
    {
      "cell_type": "code",
      "execution_count": null,
      "metadata": {
        "id": "ConyaDXbS5bN"
      },
      "outputs": [],
      "source": [
        "# factorial(2 - 1)\n",
        "# value 1\n",
        "# 1. if 1"
      ]
    },
    {
      "cell_type": "code",
      "execution_count": null,
      "metadata": {
        "colab": {
          "base_uri": "https://localhost:8080/"
        },
        "id": "8lcGjJDITEZB",
        "outputId": "ae370d53-b15b-484d-ba6b-c3e2768cab88"
      },
      "outputs": [
        {
          "data": {
            "text/plain": [
              "120"
            ]
          },
          "execution_count": 4,
          "metadata": {},
          "output_type": "execute_result"
        }
      ],
      "source": [
        "5 * 4 * 3 * 2 * 1"
      ]
    },
    {
      "cell_type": "code",
      "execution_count": null,
      "metadata": {
        "colab": {
          "base_uri": "https://localhost:8080/"
        },
        "id": "hHEeHjmORsno",
        "outputId": "b1a2f59f-bea1-4505-a80c-cfd9938f3704"
      },
      "outputs": [
        {
          "data": {
            "text/plain": [
              "120"
            ]
          },
          "execution_count": 6,
          "metadata": {},
          "output_type": "execute_result"
        }
      ],
      "source": [
        "factorial(5)"
      ]
    },
    {
      "cell_type": "code",
      "execution_count": null,
      "metadata": {
        "colab": {
          "base_uri": "https://localhost:8080/"
        },
        "id": "WJAtQVl3jmmo",
        "outputId": "4e3cf5cb-1801-4020-8581-bda8f42e2e2c"
      },
      "outputs": [
        {
          "name": "stdout",
          "output_type": "stream",
          "text": [
            "120\n"
          ]
        }
      ],
      "source": [
        "def factorial(n):\n",
        "    if n == 0 or n == 1:\n",
        "        return 1\n",
        "    else:\n",
        "        return n * factorial(n - 1)\n",
        "\n",
        "print(factorial(5))  # 120"
      ]
    },
    {
      "cell_type": "markdown",
      "metadata": {
        "id": "WyXggH9Ikbfw"
      },
      "source": [
        "✅ Practice:\n",
        "\n",
        "Write a recursive function to calculate the sum of all numbers up to `n.`"
      ]
    },
    {
      "cell_type": "code",
      "execution_count": null,
      "metadata": {
        "id": "Kic_N1M1koNf"
      },
      "outputs": [],
      "source": [
        "def recursive_sum(n):\n",
        "    if n <= 1:\n",
        "        return n\n",
        "    else:\n",
        "        return n + recursive_sum(n - 1)"
      ]
    },
    {
      "cell_type": "code",
      "source": [
        "print(recursive_sum(5)) #recursive sum of 5 means 5+(5-1)+(4-1)+(3-1)+(2-1)+(1-1) = 5+4+3+2+1+0 = 15"
      ],
      "metadata": {
        "colab": {
          "base_uri": "https://localhost:8080/"
        },
        "id": "ZoBIKlNzIXyA",
        "outputId": "918408d8-dcf0-441c-b296-fb9af017eec0"
      },
      "execution_count": null,
      "outputs": [
        {
          "output_type": "stream",
          "name": "stdout",
          "text": [
            "15\n"
          ]
        }
      ]
    },
    {
      "cell_type": "markdown",
      "metadata": {
        "id": "Az7v-Ev0ke8Y"
      },
      "source": [
        "## **📌 Section 7: Anonymous Functions (lambda)**\n",
        "\n",
        "📚 Concept:\n",
        "\n",
        "A small one-line function.\n",
        "\n",
        "🧩 Example:"
      ]
    },
    {
      "cell_type": "code",
      "execution_count": null,
      "metadata": {
        "id": "bldP1gp6aKGA"
      },
      "outputs": [],
      "source": [
        "def add(a,b): # Normal Function\n",
        "  print(a+b)"
      ]
    },
    {
      "cell_type": "code",
      "execution_count": null,
      "metadata": {
        "colab": {
          "base_uri": "https://localhost:8080/"
        },
        "id": "ibxvzPyzaKBW",
        "outputId": "4411923f-b5e9-456a-b3d5-75747c48bb40"
      },
      "outputs": [
        {
          "name": "stdout",
          "output_type": "stream",
          "text": [
            "5\n"
          ]
        }
      ],
      "source": [
        "add(2,3)"
      ]
    },
    {
      "cell_type": "code",
      "execution_count": null,
      "metadata": {
        "id": "r42RtYeba8GR"
      },
      "outputs": [],
      "source": [
        "add = lambda a,b : a+b"
      ]
    },
    {
      "cell_type": "code",
      "execution_count": null,
      "metadata": {
        "colab": {
          "base_uri": "https://localhost:8080/"
        },
        "id": "hWNyVsOHbAqb",
        "outputId": "8e9aea0b-7bf9-4207-d078-ee2a8869f3bb"
      },
      "outputs": [
        {
          "data": {
            "text/plain": [
              "5"
            ]
          },
          "execution_count": 22,
          "metadata": {},
          "output_type": "execute_result"
        }
      ],
      "source": [
        "add(2,3)"
      ]
    },
    {
      "cell_type": "code",
      "execution_count": null,
      "metadata": {
        "id": "3ZTPVWd3aaEF"
      },
      "outputs": [],
      "source": [
        "# Lambda Function\n",
        "square = lambda n:n*n"
      ]
    },
    {
      "cell_type": "code",
      "execution_count": null,
      "metadata": {
        "colab": {
          "base_uri": "https://localhost:8080/"
        },
        "id": "O_4sI1eNaJ82",
        "outputId": "5d1e8a40-a9a7-43ca-f81f-8e0bd3c42950"
      },
      "outputs": [
        {
          "data": {
            "text/plain": [
              "121"
            ]
          },
          "execution_count": 15,
          "metadata": {},
          "output_type": "execute_result"
        }
      ],
      "source": [
        "square(11)"
      ]
    },
    {
      "cell_type": "code",
      "execution_count": null,
      "metadata": {
        "colab": {
          "base_uri": "https://localhost:8080/"
        },
        "id": "9z1q6qe0kNuR",
        "outputId": "1868b3b0-38ba-40db-931b-951d1c8d971e"
      },
      "outputs": [
        {
          "name": "stdout",
          "output_type": "stream",
          "text": [
            "8\n"
          ]
        }
      ],
      "source": [
        "double = lambda x: x * 2\n",
        "\n",
        "print(double(4))  # 8"
      ]
    },
    {
      "cell_type": "markdown",
      "metadata": {
        "id": "M1R22S-qkrRn"
      },
      "source": [
        "# **✅ Practice:**\n",
        "\n",
        "Write a lambda to calculate square of a number."
      ]
    },
    {
      "cell_type": "code",
      "execution_count": null,
      "metadata": {
        "id": "bpucCBrult9w"
      },
      "outputs": [],
      "source": [
        "square = lambda x: x ** 2"
      ]
    },
    {
      "cell_type": "code",
      "source": [
        "print(square(4)) #This means 4 to the power of 2 (4*4)"
      ],
      "metadata": {
        "colab": {
          "base_uri": "https://localhost:8080/"
        },
        "id": "OuUf_nSTJ0dP",
        "outputId": "7ea7645c-a823-428d-f1ac-b2a38bec4e62"
      },
      "execution_count": null,
      "outputs": [
        {
          "output_type": "stream",
          "name": "stdout",
          "text": [
            "16\n"
          ]
        }
      ]
    },
    {
      "cell_type": "code",
      "source": [
        "print(square(9))"
      ],
      "metadata": {
        "colab": {
          "base_uri": "https://localhost:8080/"
        },
        "id": "qyrKoNMMKCvO",
        "outputId": "781903a1-60b2-4ff4-959b-00894d526d16"
      },
      "execution_count": null,
      "outputs": [
        {
          "output_type": "stream",
          "name": "stdout",
          "text": [
            "81\n"
          ]
        }
      ]
    },
    {
      "cell_type": "markdown",
      "metadata": {
        "id": "X_MdMW73k0uw"
      },
      "source": [
        "## **📌 Section 8: map(), filter(), reduce()**\n",
        "\n",
        "📚 Concept:\n",
        "\n",
        "`map()`— Apply a function to all items\n",
        "\n",
        "`filter()` — Filter items based on a condition\n",
        "\n",
        "`reduce()` — Reduce to a single value (needs functools)"
      ]
    },
    {
      "cell_type": "code",
      "execution_count": null,
      "metadata": {
        "id": "dEQn-vqacFPO"
      },
      "outputs": [],
      "source": [
        "# Map\n",
        "numbers = [1, 2, 3, 4]"
      ]
    },
    {
      "cell_type": "code",
      "execution_count": null,
      "metadata": {
        "colab": {
          "base_uri": "https://localhost:8080/"
        },
        "id": "1grpwaRkcInR",
        "outputId": "feac0ecc-5cea-4bed-9337-134db5ed5830"
      },
      "outputs": [
        {
          "data": {
            "text/plain": [
              "[1, 2, 3, 4]"
            ]
          },
          "execution_count": 26,
          "metadata": {},
          "output_type": "execute_result"
        }
      ],
      "source": [
        "numbers"
      ]
    },
    {
      "cell_type": "code",
      "execution_count": null,
      "metadata": {
        "id": "ahZQI4akcJRo"
      },
      "outputs": [],
      "source": [
        "squared = lambda x:x**2"
      ]
    },
    {
      "cell_type": "code",
      "execution_count": null,
      "metadata": {
        "id": "-32hvrBccYqE"
      },
      "outputs": [],
      "source": [
        "squared = map(lambda x:x**2,numbers)"
      ]
    },
    {
      "cell_type": "code",
      "execution_count": null,
      "metadata": {
        "colab": {
          "base_uri": "https://localhost:8080/"
        },
        "id": "j83qOO6zcq3O",
        "outputId": "f65c5b3a-8976-470c-f836-331b4a80d266"
      },
      "outputs": [
        {
          "data": {
            "text/plain": [
              "[1, 4, 9, 16]"
            ]
          },
          "execution_count": 35,
          "metadata": {},
          "output_type": "execute_result"
        }
      ],
      "source": [
        "list(squared)"
      ]
    },
    {
      "cell_type": "code",
      "execution_count": null,
      "metadata": {
        "colab": {
          "base_uri": "https://localhost:8080/"
        },
        "id": "uffXxNrckmYh",
        "outputId": "66a4b2d5-be5e-4bd6-d3a2-6f24e2580751"
      },
      "outputs": [
        {
          "name": "stdout",
          "output_type": "stream",
          "text": [
            "[1, 4, 9, 16]\n"
          ]
        }
      ],
      "source": [
        "# map\n",
        "numbers = [1, 2, 3, 4]\n",
        "squared = list(map(lambda x: x**2, numbers))\n",
        "print(squared)  # [1, 4, 9, 16]"
      ]
    },
    {
      "cell_type": "code",
      "execution_count": null,
      "metadata": {
        "id": "Tajnmdn6dOM2"
      },
      "outputs": [],
      "source": [
        "# filter\n",
        "even = lambda x:x%2==0"
      ]
    },
    {
      "cell_type": "code",
      "execution_count": null,
      "metadata": {
        "colab": {
          "base_uri": "https://localhost:8080/"
        },
        "id": "_Pj6ufP1dOIU",
        "outputId": "1b8d911b-5253-4e49-ee47-a08e3934a8ad"
      },
      "outputs": [
        {
          "data": {
            "text/plain": [
              "True"
            ]
          },
          "execution_count": 47,
          "metadata": {},
          "output_type": "execute_result"
        }
      ],
      "source": [
        "even(4)"
      ]
    },
    {
      "cell_type": "code",
      "execution_count": null,
      "metadata": {
        "id": "RqwrzUmqdhA2"
      },
      "outputs": [],
      "source": [
        "even = filter(lambda x:x%2==0, numbers)"
      ]
    },
    {
      "cell_type": "code",
      "execution_count": null,
      "metadata": {
        "colab": {
          "base_uri": "https://localhost:8080/"
        },
        "id": "9dSF3miNdx-n",
        "outputId": "7091c3c1-7e23-437b-8e66-e5dcc30f6d06"
      },
      "outputs": [
        {
          "data": {
            "text/plain": [
              "[1, 2, 3, 4]"
            ]
          },
          "execution_count": 49,
          "metadata": {},
          "output_type": "execute_result"
        }
      ],
      "source": [
        "numbers"
      ]
    },
    {
      "cell_type": "code",
      "execution_count": null,
      "metadata": {
        "colab": {
          "base_uri": "https://localhost:8080/"
        },
        "id": "4YtZMWdDdulw",
        "outputId": "3b3a1bfb-db20-46a8-fecb-2bc43f6fd223"
      },
      "outputs": [
        {
          "data": {
            "text/plain": [
              "[2, 4]"
            ]
          },
          "execution_count": 50,
          "metadata": {},
          "output_type": "execute_result"
        }
      ],
      "source": [
        "list(even)"
      ]
    },
    {
      "cell_type": "code",
      "execution_count": null,
      "metadata": {
        "colab": {
          "base_uri": "https://localhost:8080/"
        },
        "id": "3bTg4SUvlFtg",
        "outputId": "83d4b409-9ded-442b-8fda-423994188a58"
      },
      "outputs": [
        {
          "name": "stdout",
          "output_type": "stream",
          "text": [
            "[2, 4]\n"
          ]
        }
      ],
      "source": [
        "# filter\n",
        "even = list(filter(lambda x: x % 2 == 0, numbers))\n",
        "print(even)  # [2, 4]"
      ]
    },
    {
      "cell_type": "code",
      "execution_count": null,
      "metadata": {
        "id": "n2TW6KFPeNxw"
      },
      "outputs": [],
      "source": [
        "# reduce\n",
        "\n",
        "sum = lambda x, y:x+y"
      ]
    },
    {
      "cell_type": "code",
      "execution_count": null,
      "metadata": {
        "colab": {
          "base_uri": "https://localhost:8080/"
        },
        "id": "vn0o9St_eUai",
        "outputId": "5c709517-f7d1-448e-b56a-0e0580059950"
      },
      "outputs": [
        {
          "data": {
            "text/plain": [
              "5"
            ]
          },
          "execution_count": 54,
          "metadata": {},
          "output_type": "execute_result"
        }
      ],
      "source": [
        "sum(2,3)"
      ]
    },
    {
      "cell_type": "code",
      "execution_count": null,
      "metadata": {
        "colab": {
          "base_uri": "https://localhost:8080/"
        },
        "id": "uSNdrQ3ZeXS9",
        "outputId": "15529b0e-eeba-4b87-de65-62d54f832c59"
      },
      "outputs": [
        {
          "data": {
            "text/plain": [
              "[1, 2, 3, 4]"
            ]
          },
          "execution_count": 55,
          "metadata": {},
          "output_type": "execute_result"
        }
      ],
      "source": [
        "numbers"
      ]
    },
    {
      "cell_type": "code",
      "execution_count": null,
      "metadata": {
        "id": "Mlk4jcNredsK"
      },
      "outputs": [],
      "source": [
        "from functools import reduce"
      ]
    },
    {
      "cell_type": "code",
      "execution_count": null,
      "metadata": {
        "id": "68FNR4PseXOP"
      },
      "outputs": [],
      "source": [
        "sum = reduce(lambda x, y:x+y, numbers)"
      ]
    },
    {
      "cell_type": "code",
      "execution_count": null,
      "metadata": {
        "colab": {
          "base_uri": "https://localhost:8080/"
        },
        "id": "vjwElUemelW3",
        "outputId": "3d3107b6-06eb-41b3-89d6-11c6b8e61ca5"
      },
      "outputs": [
        {
          "data": {
            "text/plain": [
              "10"
            ]
          },
          "execution_count": 59,
          "metadata": {},
          "output_type": "execute_result"
        }
      ],
      "source": [
        "sum"
      ]
    },
    {
      "cell_type": "code",
      "execution_count": null,
      "metadata": {
        "colab": {
          "base_uri": "https://localhost:8080/"
        },
        "id": "t4zPcN5-lKAH",
        "outputId": "85965574-92b1-499f-c728-ec9828c20ac6"
      },
      "outputs": [
        {
          "name": "stdout",
          "output_type": "stream",
          "text": [
            "10\n"
          ]
        }
      ],
      "source": [
        "# reduce\n",
        "from functools import reduce\n",
        "sum = reduce(lambda x, y: x + y, numbers)\n",
        "print(sum)  # 10"
      ]
    },
    {
      "cell_type": "markdown",
      "metadata": {
        "id": "Osu5gRoElwYo"
      },
      "source": [
        "✅ Practice:\n",
        "\n",
        "- Use map to add 10 to each item in a list [1,2,3]\n",
        "\n",
        "\n",
        "- Use filter to keep only odd numbers."
      ]
    },
    {
      "cell_type": "code",
      "execution_count": null,
      "metadata": {
        "id": "iLESbo3ymYDQ",
        "colab": {
          "base_uri": "https://localhost:8080/"
        },
        "outputId": "20d61cca-d28d-4b74-80f7-12014d7d5e24"
      },
      "outputs": [
        {
          "output_type": "stream",
          "name": "stdout",
          "text": [
            "[11, 12, 13]\n"
          ]
        }
      ],
      "source": [
        "numbers = [1, 2, 3]\n",
        "add_10 = list(map(lambda x: x + 10, numbers))\n",
        "print(add_10)"
      ]
    },
    {
      "cell_type": "code",
      "source": [
        "odd_numbers = list(filter(lambda x: x % 2!= 0, numbers))\n",
        "print(odd_numbers)"
      ],
      "metadata": {
        "colab": {
          "base_uri": "https://localhost:8080/"
        },
        "id": "Si-LIC63NuEA",
        "outputId": "0fc60977-17d6-428a-b029-ed976a81ef41"
      },
      "execution_count": null,
      "outputs": [
        {
          "output_type": "stream",
          "name": "stdout",
          "text": [
            "[1, 3]\n"
          ]
        }
      ]
    },
    {
      "cell_type": "markdown",
      "metadata": {
        "id": "A1dAhdw4l8sI"
      },
      "source": [
        "## **✅ Section 9: Practice**"
      ]
    },
    {
      "cell_type": "markdown",
      "metadata": {
        "id": "UqR3YZetl_WQ"
      },
      "source": [
        "📝 Tasks:\n",
        "\n",
        "Write 5 custom functions:\n",
        "\n",
        "- Convert Celsius to Fahrenheit.\n",
        "\n",
        "- Check if a number is even or odd.\n",
        "\n",
        "- Find maximum of 3 numbers.\n",
        "\n",
        "- Count vowels in a string.\n",
        "\n",
        "- Return reverse of a string."
      ]
    },
    {
      "cell_type": "markdown",
      "source": [
        "# **Convert Celsius to Fahrenheit.**"
      ],
      "metadata": {
        "id": "e13BwCnnOlFM"
      }
    },
    {
      "cell_type": "code",
      "execution_count": null,
      "metadata": {
        "id": "wsJODt6ZlPVf"
      },
      "outputs": [],
      "source": [
        "def celsius_to_fahrenheit(celsius):\n",
        "    return (celsius * 9/5) + 32"
      ]
    },
    {
      "cell_type": "code",
      "source": [
        "print(celsius_to_fahrenheit(0))"
      ],
      "metadata": {
        "colab": {
          "base_uri": "https://localhost:8080/"
        },
        "id": "TS5jTS2UOvh-",
        "outputId": "c7bb70e9-9469-403b-f63e-86f2b12a7779"
      },
      "execution_count": null,
      "outputs": [
        {
          "output_type": "stream",
          "name": "stdout",
          "text": [
            "32.0\n"
          ]
        }
      ]
    },
    {
      "cell_type": "code",
      "source": [
        "print(celsius_to_fahrenheit(5))"
      ],
      "metadata": {
        "colab": {
          "base_uri": "https://localhost:8080/"
        },
        "id": "DJoIOGxbO2Gg",
        "outputId": "814009c2-d013-4951-aa06-b43ce2c93daa"
      },
      "execution_count": null,
      "outputs": [
        {
          "output_type": "stream",
          "name": "stdout",
          "text": [
            "41.0\n"
          ]
        }
      ]
    },
    {
      "cell_type": "markdown",
      "source": [
        "# **Check if a number is even or odd.**"
      ],
      "metadata": {
        "id": "JCZjmoH2PAEU"
      }
    },
    {
      "cell_type": "code",
      "source": [
        "def even_or_odd(number):\n",
        "    return \"Even\" if number % 2 == 0 else \"Odd\""
      ],
      "metadata": {
        "id": "5LbUasfnPDQU"
      },
      "execution_count": null,
      "outputs": []
    },
    {
      "cell_type": "code",
      "source": [
        "print(even_or_odd(27))"
      ],
      "metadata": {
        "colab": {
          "base_uri": "https://localhost:8080/"
        },
        "id": "hk3wpv5MPDNx",
        "outputId": "3ed84396-1656-418f-856a-14d558a5e3b6"
      },
      "execution_count": null,
      "outputs": [
        {
          "output_type": "stream",
          "name": "stdout",
          "text": [
            "Odd\n"
          ]
        }
      ]
    },
    {
      "cell_type": "markdown",
      "source": [
        "# **Find maximum of 3 numbers.**"
      ],
      "metadata": {
        "id": "CGCPyAVEPwrg"
      }
    },
    {
      "cell_type": "code",
      "source": [
        "def max_of_three(a, b, c):\n",
        "    return max(a, b, c)"
      ],
      "metadata": {
        "id": "6OJPlzPRPDKY"
      },
      "execution_count": null,
      "outputs": []
    },
    {
      "cell_type": "code",
      "source": [
        "print(max_of_three(55, 10, 7))"
      ],
      "metadata": {
        "colab": {
          "base_uri": "https://localhost:8080/"
        },
        "id": "uPpoqNnrPCuI",
        "outputId": "1923b2ea-e770-49f7-af0c-7e44b89ee3cf"
      },
      "execution_count": null,
      "outputs": [
        {
          "output_type": "stream",
          "name": "stdout",
          "text": [
            "55\n"
          ]
        }
      ]
    },
    {
      "cell_type": "markdown",
      "source": [
        "# **Count vowels in a string.**"
      ],
      "metadata": {
        "id": "ruLESbnCQFx-"
      }
    },
    {
      "cell_type": "code",
      "source": [
        "def count_vowels(text):\n",
        "    vowels = 'aeiouAEIOU'\n",
        "    return sum(1 for char in text if char in vowels)"
      ],
      "metadata": {
        "id": "m72XTKbKQHLL"
      },
      "execution_count": null,
      "outputs": []
    },
    {
      "cell_type": "code",
      "source": [
        "print(count_vowels(\"Good evening Raja Sir\"))"
      ],
      "metadata": {
        "colab": {
          "base_uri": "https://localhost:8080/"
        },
        "id": "BkTch-40QQJ4",
        "outputId": "251e24f7-0587-455d-8c96-dfdd37aadbb4"
      },
      "execution_count": null,
      "outputs": [
        {
          "output_type": "stream",
          "name": "stdout",
          "text": [
            "8\n"
          ]
        }
      ]
    },
    {
      "cell_type": "markdown",
      "source": [
        "# **Return reverse of a string**"
      ],
      "metadata": {
        "id": "aVuBHdU7QocY"
      }
    },
    {
      "cell_type": "code",
      "source": [
        "def reverse_string(text):\n",
        "    return text[::-1]"
      ],
      "metadata": {
        "id": "TBmioRdQQpk6"
      },
      "execution_count": null,
      "outputs": []
    },
    {
      "cell_type": "code",
      "source": [
        "print(reverse_string(\"moon_at noon\"))"
      ],
      "metadata": {
        "colab": {
          "base_uri": "https://localhost:8080/"
        },
        "id": "rMCv5UTYQtC-",
        "outputId": "42b851c7-2c8e-4b48-f67b-883faa22417c"
      },
      "execution_count": null,
      "outputs": [
        {
          "output_type": "stream",
          "name": "stdout",
          "text": [
            "noon ta_noom\n"
          ]
        }
      ]
    },
    {
      "cell_type": "markdown",
      "metadata": {
        "id": "gqRajZiGmLd4"
      },
      "source": [
        "## **✅ Section 10: Quiz**"
      ]
    },
    {
      "cell_type": "markdown",
      "metadata": {
        "id": "VXEWMU7AmJ3I"
      },
      "source": [
        "📝 Quiz Questions:\n",
        "\n",
        "- What is the difference between *args and **kwargs?\n",
        "\n",
        "- What does lambda mean in Python?\n",
        "\n",
        "- Write a lambda that returns True if number is positive."
      ]
    },
    {
      "cell_type": "markdown",
      "source": [
        "# What is the difference between args and *kwargs?\n",
        "# args are for multiple **positional** arguments, syntax used is *\n",
        "# kwargs are for multiple **keyword** arguments, syntax used is **"
      ],
      "metadata": {
        "id": "RteNqZvlRUpD"
      }
    },
    {
      "cell_type": "code",
      "execution_count": null,
      "metadata": {
        "id": "_STSpFJ1mQSw",
        "colab": {
          "base_uri": "https://localhost:8080/"
        },
        "outputId": "83d0583b-f373-4661-f59b-34d74c5f1648"
      },
      "outputs": [
        {
          "output_type": "stream",
          "name": "stdout",
          "text": [
            "Positional: (1, 2, 3, 'Alice', 30)\n",
            "Keyword: {}\n"
          ]
        }
      ],
      "source": [
        "def example_function(*args, **kwargs):\n",
        "    print(\"Positional:\", args)\n",
        "    print(\"Keyword:\", kwargs)\n",
        "\n",
        "example_function(1, 2, 3, \"Alice\", 30)"
      ]
    },
    {
      "cell_type": "code",
      "source": [
        "def example_function(*args, **kwargs):\n",
        "    print(\"Positional:\", args)\n",
        "    print(\"Keyword:\", kwargs)\n",
        "\n",
        "example_function(1, 2, 3, name=\"Alice\", age=30)"
      ],
      "metadata": {
        "colab": {
          "base_uri": "https://localhost:8080/"
        },
        "id": "1h-yU1G9Tzss",
        "outputId": "0b8ee565-3339-46a0-d2e1-e2da720328a1"
      },
      "execution_count": null,
      "outputs": [
        {
          "output_type": "stream",
          "name": "stdout",
          "text": [
            "Positional: (1, 2, 3)\n",
            "Keyword: {'name': 'Alice', 'age': 30}\n"
          ]
        }
      ]
    },
    {
      "cell_type": "markdown",
      "source": [
        "# **What does lambda mean in Python?**\n",
        "Lambda is used to create anonymous (unnamed) functions in a single line.\n",
        "\n",
        "Syntax: lambda arguments: expression"
      ],
      "metadata": {
        "id": "Ny6eyDm8UNgM"
      }
    },
    {
      "cell_type": "code",
      "source": [
        "square = lambda x: x * x\n",
        "print(square(3))"
      ],
      "metadata": {
        "colab": {
          "base_uri": "https://localhost:8080/"
        },
        "id": "9dJ2Zl80UUxl",
        "outputId": "7598b5a5-4eff-4969-8e19-14f800356fa1"
      },
      "execution_count": null,
      "outputs": [
        {
          "output_type": "stream",
          "name": "stdout",
          "text": [
            "9\n"
          ]
        }
      ]
    },
    {
      "cell_type": "markdown",
      "source": [
        "# **Write a lambda that returns True if number is positive.**"
      ],
      "metadata": {
        "id": "R3QipEC1U05L"
      }
    },
    {
      "cell_type": "code",
      "source": [
        "is_positive = lambda x: x > 0"
      ],
      "metadata": {
        "id": "Y0CxYPXBVAZP"
      },
      "execution_count": null,
      "outputs": []
    },
    {
      "cell_type": "code",
      "source": [
        "print(is_positive(-5))"
      ],
      "metadata": {
        "colab": {
          "base_uri": "https://localhost:8080/"
        },
        "id": "5F7r7Zw8VFmU",
        "outputId": "fcdbb254-1a85-4af2-8993-67a4bf030681"
      },
      "execution_count": null,
      "outputs": [
        {
          "output_type": "stream",
          "name": "stdout",
          "text": [
            "False\n"
          ]
        }
      ]
    },
    {
      "cell_type": "code",
      "source": [
        "print(is_positive(2))"
      ],
      "metadata": {
        "colab": {
          "base_uri": "https://localhost:8080/"
        },
        "id": "-hft4ZDQVI88",
        "outputId": "807a7661-44d8-4016-87a1-448abb395fd8"
      },
      "execution_count": null,
      "outputs": [
        {
          "output_type": "stream",
          "name": "stdout",
          "text": [
            "True\n"
          ]
        }
      ]
    }
  ],
  "metadata": {
    "colab": {
      "provenance": []
    },
    "kernelspec": {
      "display_name": "Python 3",
      "name": "python3"
    },
    "language_info": {
      "name": "python"
    }
  },
  "nbformat": 4,
  "nbformat_minor": 0
}